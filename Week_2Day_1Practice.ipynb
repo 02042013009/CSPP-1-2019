{
  "nbformat": 4,
  "nbformat_minor": 0,
  "metadata": {
    "colab": {
      "name": "Week-2Day-1Practice.ipynb",
      "version": "0.3.2",
      "provenance": [],
      "collapsed_sections": [],
      "include_colab_link": true
    },
    "kernelspec": {
      "name": "python3",
      "display_name": "Python 3"
    }
  },
  "cells": [
    {
      "cell_type": "markdown",
      "metadata": {
        "id": "view-in-github",
        "colab_type": "text"
      },
      "source": [
        "<a href=\"https://colab.research.google.com/github/02042013009/CSPP-1-2019/blob/master/Week_2Day_1Practice.ipynb\" target=\"_parent\"><img src=\"https://colab.research.google.com/assets/colab-badge.svg\" alt=\"Open In Colab\"/></a>"
      ]
    },
    {
      "metadata": {
        "id": "6gOhb7ASiLYr",
        "colab_type": "text"
      },
      "cell_type": "markdown",
      "source": [
        "Problem Statement :\n",
        "\n",
        " You have to write python code for extracting data from a string which is in the HTML format. The given html code is respossible for displaying the items line by line with a bullet.\n",
        " <h2>An unordered HTML list</h2>\n",
        "<ul>\n",
        "  <li>Coffee</li>\n",
        "  <li>Tea</li>\n",
        "  <li>Milk</li>\n",
        "  <li>Chocolate</li>\n",
        "  <li>Water</li>\n",
        "  <li>Apple Juice</li>\n",
        "  <li>Coconut Water</li>\n",
        "  <li>Sugarcane Juice</li>\n",
        "</ul>  "
      ]
    },
    {
      "metadata": {
        "id": "iZhkyDyAsbh7",
        "colab_type": "text"
      },
      "cell_type": "markdown",
      "source": [
        "Write a program that returns the count of the items present in the string"
      ]
    },
    {
      "metadata": {
        "id": "gDXlZbccsogT",
        "colab_type": "code",
        "outputId": "3892fd7f-283c-4818-8811-ee8e1acd697a",
        "colab": {
          "base_uri": "https://localhost:8080/",
          "height": 34
        }
      },
      "cell_type": "code",
      "source": [
        "def get_count(html):\n",
        "  if len(html) == 0:\n",
        "    return None\n",
        "  return html.count(\"<li>\")\n",
        "assert get_count('''<h2>An unordered HTML List</h2><ul><li>Coffee</li><li>Tea</li><li>Milk</li><li>Chocolate</li><li>Water</li><li>Apple Juice</li><li>Coconut Water</li><li>Sugarcane Juice</li></ul>''')==8\n",
        "assert get_count('''<h2>An unordered HTML List</h2><ul><li>Coffee</li><li>Tea</li><li>Milk</li><li>Chocolate</li><li>Water</li></ul>''')==5\n",
        "assert get_count('''<h2>An unordered HTML List</h2><ul><li>Coffee</li></ul>''')==1\n",
        "assert get_count(\"\")==None\n",
        "print(\"All test case passed\")"
      ],
      "execution_count": 0,
      "outputs": [
        {
          "output_type": "stream",
          "text": [
            "All test case passed\n"
          ],
          "name": "stdout"
        }
      ]
    },
    {
      "metadata": {
        "id": "DpzUYaVfuPOT",
        "colab_type": "text"
      },
      "cell_type": "markdown",
      "source": [
        "Write a program that returns true if the given item is present in the string, else false"
      ]
    },
    {
      "metadata": {
        "id": "TL4RVU4cu53D",
        "colab_type": "code",
        "outputId": "93e193b1-9452-4ff5-9565-cd075f72a07c",
        "colab": {
          "base_uri": "https://localhost:8080/",
          "height": 34
        }
      },
      "cell_type": "code",
      "source": [
        "def item_exists(html, target):\n",
        "  return target in html\n",
        "    \n",
        "assert item_exists('''<h2>An unordered HTML List</h2><ul><li>Coffee</li><li>Tea</li><li>Milk</li><li>Chocolate</li><li>Water</li><li>Apple Juice</li><li>Coconut Water</li><li>Sugarcane Juice</li></ul>''',\"Sugarcane Juice\")==True\n",
        "assert item_exists('''<h2>An unordered HTML List</h2><ul><li>Coffee</li><li>Tea</li><li>Milk</li><li>Chocolate</li><li>Water</li></ul>''',\"Mango Juice\")==False\n",
        "assert item_exists('''<h2>An unordered HTML List</h2><ul><li>Coffee</li></ul>''',\"Coffee\")==True\n",
        "assert item_exists(\"\",\"Tea\")==False\n",
        "print(\"All testcases are passed\")"
      ],
      "execution_count": 0,
      "outputs": [
        {
          "output_type": "stream",
          "text": [
            "All testcases are passed\n"
          ],
          "name": "stdout"
        }
      ]
    },
    {
      "metadata": {
        "id": "6WhNiwGyvfLo",
        "colab_type": "text"
      },
      "cell_type": "markdown",
      "source": [
        "Write a program that returns a string which contains all the items in the html with comma separated.\n"
      ]
    },
    {
      "metadata": {
        "id": "fPPYRwXlv5zM",
        "colab_type": "code",
        "outputId": "1580a9d5-3f78-44ea-f900-3f13f3df2cdd",
        "colab": {
          "base_uri": "https://localhost:8080/",
          "height": 34
        }
      },
      "cell_type": "code",
      "source": [
        "def get_items(html):\n",
        "  if len(html) == 0:\n",
        "    return None\n",
        "  html = html[html.find('<ul>') + len(\"<ul><li>\"):] \n",
        "  html = html[:html.find('</li></ul>')]\n",
        "  mylist = html.split(\"</li><li>\")\n",
        "  \n",
        "  new = \"\"\n",
        "  for item in mylist:\n",
        "    new+=item + \",\"\n",
        "  new = new[:len(new)-1]\n",
        "  return new\n",
        "  \n",
        "assert get_items('''<h2>An unordered HTML List</h2><ul><li>Coffee</li><li>Tea</li><li>Milk</li><li>Chocolate</li><li>Water</li><li>Apple Juice</li><li>Coconut Water</li><li>Sugarcane Juice</li></ul>''')==\"Coffee,Tea,Milk,Chocolate,Water,Apple Juice,Coconut Water,Sugarcane Juice\"\n",
        "assert get_items('''<h2>An unordered HTML List</h2><ul><li>Coffee</li><li>Tea</li><li>Milk</li><li>Chocolate</li><li>Water</li></ul>''')==\"Coffee,Tea,Milk,Chocolate,Water\"\n",
        "assert get_items('''<h2>An unordered HTML List</h2><ul><li>Coffee</li></ul>''')==\"Coffee\"\n",
        "assert get_items(\"\")==None\n",
        "print(\"Test cases passed\")\n"
      ],
      "execution_count": 0,
      "outputs": [
        {
          "output_type": "stream",
          "text": [
            "Test cases passed\n"
          ],
          "name": "stdout"
        }
      ]
    },
    {
      "metadata": {
        "id": "edoRQ7sYw1QB",
        "colab_type": "text"
      },
      "cell_type": "markdown",
      "source": [
        "Write a program that returns the nth item from the given html string."
      ]
    },
    {
      "metadata": {
        "id": "sjUJSn9kw_PD",
        "colab_type": "code",
        "outputId": "1f452c00-c6e9-439b-b673-8989d690fcfc",
        "colab": {
          "base_uri": "https://localhost:8080/",
          "height": 34
        }
      },
      "cell_type": "code",
      "source": [
        "def get_nth_item(html,n):\n",
        "  if len(html) == 0:\n",
        "    return None\n",
        "  html = html[html.find('<ul>') + len(\"<ul><li>\"):] \n",
        "  html = html[:html.find('</li></ul>')]\n",
        "  mylist = html.split(\"</li><li>\")\n",
        "  \n",
        "  return mylist[n-1]\n",
        "  \n",
        "assert get_nth_item('''<h2>An unordered HTML List</h2><ul><li>Coffee</li><li>Tea</li><li>Milk</li><li>Chocolate</li><li>Water</li><li>Apple Juice</li><li>Coconut Water</li><li>Sugarcane Juice</li></ul>''', 4)==\"Chocolate\"\n",
        "assert get_nth_item('''<h2>An unordered HTML List</h2><ul><li>Coffee</li><li>Tea</li><li>Milk</li><li>Chocolate</li><li>Water</li></ul>''',2)==\"Tea\"\n",
        "assert get_nth_item('''<h2>An unordered HTML List</h2><ul><li>Coffee</li></ul>''',1)==\"Coffee\"\n",
        "assert get_nth_item(\"\",4)==None\n",
        "print(\"test passed\")"
      ],
      "execution_count": 0,
      "outputs": [
        {
          "output_type": "stream",
          "text": [
            "test passed\n"
          ],
          "name": "stdout"
        }
      ]
    },
    {
      "metadata": {
        "id": "QBEKAVkEz4tZ",
        "colab_type": "text"
      },
      "cell_type": "markdown",
      "source": [
        "Write a program that return true if the any item occurs multiple time, else false."
      ]
    },
    {
      "metadata": {
        "id": "m09Udp5W0KDs",
        "colab_type": "code",
        "outputId": "7d9ffd54-91f7-4880-856c-88021b71d0eb",
        "colab": {
          "base_uri": "https://localhost:8080/",
          "height": 34
        }
      },
      "cell_type": "code",
      "source": [
        "def duplicate_items(html):\n",
        "  if len(html) == 0:\n",
        "    return None\n",
        "  html = html[html.find('<ul>') + len(\"<ul><li>\"):] \n",
        "  html = html[:html.find('</li></ul>')]\n",
        "  mylist = html.split(\"</li><li>\")\n",
        "  \n",
        "  for item in mylist:\n",
        "    if mylist.count(item) > 1:\n",
        "      return True\n",
        "  return False\n",
        "  \n",
        "assert duplicate_items('''<h2>An unordered HTML List</h2><ul><li>Coffee</li><li>Tea</li><li>Milk</li><li>Chocolate</li><li>Water</li><li>Apple Juice</li><li>Coconut Water</li><li>Sugarcane Juice</li><li>Apple Juice</li></ul>''')==True\n",
        "assert duplicate_items('''<h2>An unordered HTML List</h2><ul><li>Coffee</li><li>Tea</li><li>Milk</li><li>Chocolate</li><li>Tea</li><li>Water</li></ul>''')==True\n",
        "assert duplicate_items('''<h2>An unordered HTML List</h2><ul><li>Coffee</li></ul>''')==False\n",
        "assert duplicate_items(\"\")==None\n",
        "print(\"Passed\")"
      ],
      "execution_count": 55,
      "outputs": [
        {
          "output_type": "stream",
          "text": [
            "Passed\n"
          ],
          "name": "stdout"
        }
      ]
    }
  ]
}