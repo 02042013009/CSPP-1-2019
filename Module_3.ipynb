{
  "nbformat": 4,
  "nbformat_minor": 0,
  "metadata": {
    "colab": {
      "name": "Module-3.ipynb",
      "version": "0.3.2",
      "provenance": [],
      "collapsed_sections": [],
      "include_colab_link": true
    },
    "kernelspec": {
      "name": "python3",
      "display_name": "Python 3"
    },
    "accelerator": "GPU"
  },
  "cells": [
    {
      "cell_type": "markdown",
      "metadata": {
        "id": "view-in-github",
        "colab_type": "text"
      },
      "source": [
        "<a href=\"https://colab.research.google.com/github/02042013009/CSPP-1-2019/blob/master/Module_3.ipynb\" target=\"_parent\"><img src=\"https://colab.research.google.com/assets/colab-badge.svg\" alt=\"Open In Colab\"/></a>"
      ]
    },
    {
      "metadata": {
        "id": "ESc8sxkTRPU0",
        "colab_type": "text"
      },
      "cell_type": "markdown",
      "source": [
        "Given an array of ints, return the number of 9's in the array.\n",
        "\n",
        "\n",
        "array_count9([1, 2, 9]) → 1\n",
        "array_count9([1, 9, 9]) → 2\n",
        "array_count9([1, 9, 9, 3, 9]) → 3"
      ]
    },
    {
      "metadata": {
        "id": "nt43uAjgRQmt",
        "colab_type": "code",
        "outputId": "bbad70f8-cfb3-4962-c578-76efe04d8fde",
        "colab": {
          "base_uri": "https://localhost:8080/",
          "height": 34
        }
      },
      "cell_type": "code",
      "source": [
        "def array_count9(nums):\n",
        "  return nums.count(9)\n",
        "    \n",
        "assert array_count9([1, 2, 9]) == 1\n",
        "assert array_count9([1, 9, 9]) == 2\n",
        "assert array_count9([1, 9, 9, 3, 9]) == 3\t\n",
        "assert array_count9([1, 2, 3]) == 0\n",
        "assert array_count9([]) == 0\n",
        "print(\" All testcases are passed!\")"
      ],
      "execution_count": 0,
      "outputs": [
        {
          "output_type": "stream",
          "text": [
            " All testcases are passed!\n"
          ],
          "name": "stdout"
        }
      ]
    },
    {
      "metadata": {
        "id": "L455CxnMSCrJ",
        "colab_type": "text"
      },
      "cell_type": "markdown",
      "source": [
        "Given an array of ints, return True if one of the first 4 elements in the array is a 9. The array length may be less than 4.\n",
        "\n",
        "\n",
        "array_front9([1, 2, 9, 3, 4]) → True\n",
        "array_front9([1, 2, 3, 4, 9]) → False\n",
        "array_front9([1, 2, 3, 4, 5]) → False"
      ]
    },
    {
      "metadata": {
        "id": "dJzVWnfdSNVs",
        "colab_type": "code",
        "outputId": "c434170f-56ae-4983-a825-8a1e91ef3e1b",
        "colab": {
          "base_uri": "https://localhost:8080/",
          "height": 34
        }
      },
      "cell_type": "code",
      "source": [
        "def array_front9(nums):\n",
        "  if 9 in nums and nums.index(9)<4:\n",
        "    return True\n",
        "  else:\n",
        "    return False\n",
        "  \n",
        "assert array_front9([1, 9]) == True\n",
        "assert array_front9([5, 5]) == False\n",
        "assert array_front9([2]) == False\n",
        "assert array_front9([9]) == True\n",
        "assert array_front9([]) == False\n",
        "assert array_front9([3, 9, 2, 3, 3]) == True\n",
        "print(\" All testcases are passed!\")"
      ],
      "execution_count": 0,
      "outputs": [
        {
          "output_type": "stream",
          "text": [
            " All testcases are passed!\n"
          ],
          "name": "stdout"
        }
      ]
    },
    {
      "metadata": {
        "id": "yFYcVtdMSwXq",
        "colab_type": "text"
      },
      "cell_type": "markdown",
      "source": [
        "Given an array of ints, return True if the sequence of numbers 1, 2, 3 appears in the array somewhere.\n",
        "\n",
        "\n",
        "array123([1, 1, 2, 3, 1]) → True\n",
        "array123([1, 1, 2, 4, 1]) → False\n",
        "array123([1, 1, 2, 1, 2, 3]) → True"
      ]
    },
    {
      "metadata": {
        "id": "8APk4mbNSzTK",
        "colab_type": "code",
        "outputId": "10125739-f79c-4803-d9bd-635818f45aa6",
        "colab": {
          "base_uri": "https://localhost:8080/",
          "height": 34
        }
      },
      "cell_type": "code",
      "source": [
        "def array123(nums):\n",
        "  return 1 in nums and 2 in nums and 3 in nums\n",
        "assert array123([1, 1, 2, 3, 1]) == True\t\n",
        "assert array123([1, 1, 2, 4, 1]) == False\n",
        "assert array123([1, 1, 2, 1, 2, 3]) == True\n",
        "assert array123([1, 1, 2, 1, 2, 1]) == False\n",
        "assert array123([1, 2, 3, 1, 2, 3]) == True\n",
        "print(\" All testcases are passed!\")\n"
      ],
      "execution_count": 0,
      "outputs": [
        {
          "output_type": "stream",
          "text": [
            " All testcases are passed!\n"
          ],
          "name": "stdout"
        }
      ]
    },
    {
      "metadata": {
        "id": "fTHcPrdvVF_a",
        "colab_type": "text"
      },
      "cell_type": "markdown",
      "source": [
        "Given an array of ints, return True if 6 appears as either the first or last element in the array. The array will be length 1 or more.\n",
        "\n",
        "\n",
        "first_last6([1, 2, 6]) → True\n",
        "first_last6([6, 1, 2, 3]) → True\n",
        "first_last6([13, 6, 1, 2, 3]) → False"
      ]
    },
    {
      "metadata": {
        "id": "mh-CvCOMVHLH",
        "colab_type": "code",
        "outputId": "82df4b3c-3a73-431f-9f8e-9931f4b8031b",
        "colab": {
          "base_uri": "https://localhost:8080/",
          "height": 34
        }
      },
      "cell_type": "code",
      "source": [
        "def first_last6(nums):\n",
        "  return nums[0] == 6 or nums[len(nums)-1] == 6\n",
        "    \n",
        "assert first_last6([13, 6, 1, 2, 6]) == True\t\n",
        "assert first_last6([3, 2, 1]) == False\t\n",
        "assert first_last6([3, 6, 1]) == False\n",
        "assert first_last6([3, 6]) == True\n",
        "assert first_last6([6]) == True\n",
        "assert first_last6([3]) == False\n",
        "print(\" All testcases are passed!\")"
      ],
      "execution_count": 34,
      "outputs": [
        {
          "output_type": "stream",
          "text": [
            " All testcases are passed!\n"
          ],
          "name": "stdout"
        }
      ]
    },
    {
      "metadata": {
        "id": "Z2E1YedLVgoF",
        "colab_type": "text"
      },
      "cell_type": "markdown",
      "source": [
        "Given an array of ints, return True if the array is length 1 or more, and the first element and the last element are equal.\n",
        "\n",
        "\n",
        "same_first_last([1, 2, 3]) → False\n",
        "same_first_last([1, 2, 3, 1]) → True\n",
        "same_first_last([1, 2, 1]) → True"
      ]
    },
    {
      "metadata": {
        "id": "DHv_pXyaVhx0",
        "colab_type": "code",
        "colab": {
          "base_uri": "https://localhost:8080/",
          "height": 34
        },
        "outputId": "0cbd3fc1-0de5-46b0-b793-0b547d5f7965"
      },
      "cell_type": "code",
      "source": [
        "def same_first_last(nums):\n",
        "  if len(nums) != 0:\n",
        "    return nums[0] == nums[len(nums)-1]\n",
        "  else:\n",
        "    return False\n",
        "  \n",
        "assert same_first_last([1, 2, 1]) == True\n",
        "assert same_first_last([7]) == True\t\n",
        "assert same_first_last([]) == False\n",
        "assert same_first_last([1, 2, 3, 4, 5, 1]) == True\t\n",
        "assert same_first_last([1, 2, 3, 4, 5, 13]) == False\t\n",
        "assert same_first_last([13, 2, 3, 4, 5, 13]) == True\t\n",
        "print(\" All testcases are passed!\")"
      ],
      "execution_count": 30,
      "outputs": [
        {
          "output_type": "stream",
          "text": [
            " All testcases are passed!\n"
          ],
          "name": "stdout"
        }
      ]
    },
    {
      "metadata": {
        "id": "qWisxsfmVtKq",
        "colab_type": "text"
      },
      "cell_type": "markdown",
      "source": [
        "Return an int array length 3 containing the first 3 digits of pi, {3, 1, 4}.\n",
        "\n",
        "\n",
        "make_pi() → [3, 1, 4]"
      ]
    },
    {
      "metadata": {
        "id": "LLPz3YkLV7gS",
        "colab_type": "code",
        "colab": {
          "base_uri": "https://localhost:8080/",
          "height": 34
        },
        "outputId": "44cfe693-707a-42cd-8ebe-7bd8edb5b707"
      },
      "cell_type": "code",
      "source": [
        "def make_pi():\n",
        "  pi = 3.14\n",
        "  pi = int(pi*100)\n",
        "  new = []\n",
        "  while(pi != 0):\n",
        "    rem = pi%10\n",
        "    pi = pi//10\n",
        "    new.insert(0,rem)\n",
        "  return new\n",
        "assert make_pi() == [3, 1, 4]\n",
        "print(\" All testcases are passed!\")"
      ],
      "execution_count": 185,
      "outputs": [
        {
          "output_type": "stream",
          "text": [
            " All testcases are passed!\n"
          ],
          "name": "stdout"
        }
      ]
    },
    {
      "metadata": {
        "id": "Aj9uKHfiV_dg",
        "colab_type": "text"
      },
      "cell_type": "markdown",
      "source": [
        "Given 2 arrays of ints, a and b, return True if they have the same first element or they have the same last element. Both arrays will be length 1 or more.\n",
        "\n",
        "\n",
        "common_end([1, 2, 3], [7, 3]) → True\n",
        "common_end([1, 2, 3], [7, 3, 2]) → False\n",
        "common_end([1, 2, 3], [1, 3]) → True\n"
      ]
    },
    {
      "metadata": {
        "id": "OfcIPDWAWFJJ",
        "colab_type": "code",
        "colab": {
          "base_uri": "https://localhost:8080/",
          "height": 34
        },
        "outputId": "26780f34-b9ef-421c-c406-fed490081aed"
      },
      "cell_type": "code",
      "source": [
        "def common_end(a, b):\n",
        "  return a[0] == b[0] or a[len(a)-1] == b[len(b)-1]\n",
        "assert common_end([1, 2, 3], [7, 3]) == True\n",
        "assert common_end([1, 2, 3], [7, 3, 2]) == False\t\n",
        "assert common_end([1, 2, 3], [1, 3]) == True\t\t\n",
        "assert common_end([1, 2, 3], [1]) == True\t\n",
        "assert common_end([1, 2, 3], [2]) == False\t\n",
        "print(\" All testcases are passed!\")"
      ],
      "execution_count": 56,
      "outputs": [
        {
          "output_type": "stream",
          "text": [
            " All testcases are passed!\n"
          ],
          "name": "stdout"
        }
      ]
    },
    {
      "metadata": {
        "id": "nfEcSxoCWPUu",
        "colab_type": "text"
      },
      "cell_type": "markdown",
      "source": [
        ""
      ]
    },
    {
      "metadata": {
        "id": "vWymYV9UWVix",
        "colab_type": "text"
      },
      "cell_type": "markdown",
      "source": [
        "Given an array of ints length 3, return the sum of all the elements.\n",
        "\n",
        "\n",
        "sum3([1, 2, 3]) → 6\n",
        "sum3([5, 11, 2]) → 18\n",
        "sum3([7, 0, 0]) → 7"
      ]
    },
    {
      "metadata": {
        "id": "rmRKbLb7WWRS",
        "colab_type": "code",
        "colab": {
          "base_uri": "https://localhost:8080/",
          "height": 34
        },
        "outputId": "2164d5d3-830e-4926-dece-9287a5035e2e"
      },
      "cell_type": "code",
      "source": [
        "def sum3(nums):\n",
        "  return sum(nums)\n",
        "assert sum3([1, 2, 3]) == 6\t\n",
        "assert sum3([5, 11, 2]) == 18\n",
        "assert sum3([7, 0, 0]) == 7\n",
        "assert sum3([1, 2, 1]) == 4\n",
        "assert sum3([1, 1, 1]) == 3\n",
        "print(\" All testcases are passed!\")"
      ],
      "execution_count": 57,
      "outputs": [
        {
          "output_type": "stream",
          "text": [
            " All testcases are passed!\n"
          ],
          "name": "stdout"
        }
      ]
    },
    {
      "metadata": {
        "id": "HiL8gzfWWiqj",
        "colab_type": "text"
      },
      "cell_type": "markdown",
      "source": [
        "Given an array of ints length 3, return an array with the elements \"rotated left\" so {1, 2, 3} yields {2, 3, 1}.\n",
        "\n",
        "\n",
        "rotate_left3([1, 2, 3]) → [2, 3, 1]\n",
        "rotate_left3([5, 11, 9]) → [11, 9, 5]\n",
        "rotate_left3([7, 0, 0]) → [0, 0, 7]\n"
      ]
    },
    {
      "metadata": {
        "id": "SnAer3gVWoij",
        "colab_type": "code",
        "colab": {
          "base_uri": "https://localhost:8080/",
          "height": 34
        },
        "outputId": "d68cf5e9-8571-4106-ff59-3d516edd07f4"
      },
      "cell_type": "code",
      "source": [
        "def rotate_left3(nums):\n",
        "  new = nums[1:]\n",
        "  new.append(nums[0])\n",
        "  return new\n",
        "    \n",
        "assert rotate_left3([5, 11, 9]) == [11, 9, 5]\t\n",
        "assert rotate_left3([7, 0, 0]) == [0, 0, 7]\t\n",
        "assert rotate_left3([1, 2, 1]) == [2, 1, 1]\n",
        "assert rotate_left3([0, 0, 1]) == [0, 1, 0]\n",
        "print(\" All testcases are passed!\")"
      ],
      "execution_count": 190,
      "outputs": [
        {
          "output_type": "stream",
          "text": [
            " All testcases are passed!\n"
          ],
          "name": "stdout"
        }
      ]
    },
    {
      "metadata": {
        "id": "eeblEVbHWza9",
        "colab_type": "text"
      },
      "cell_type": "markdown",
      "source": [
        "Given an array of ints length 3, return a new array with the elements in reverse order, so {1, 2, 3} becomes {3, 2, 1}.\n",
        "\n",
        "\n",
        "reverse3([1, 2, 3]) → [3, 2, 1]\n",
        "reverse3([5, 11, 9]) → [9, 11, 5]\n",
        "reverse3([7, 0, 0]) → [0, 0, 7]"
      ]
    },
    {
      "metadata": {
        "id": "4N9YyCHjXIMx",
        "colab_type": "code",
        "colab": {
          "base_uri": "https://localhost:8080/",
          "height": 34
        },
        "outputId": "bad5d60a-f73d-42cc-eee5-74f03990a438"
      },
      "cell_type": "code",
      "source": [
        "def reverse3(nums):\n",
        "  nums.reverse()\n",
        "  return nums\n",
        "assert reverse3([7, 0, 0]) == [0, 0, 7]\n",
        "assert reverse3([2, 1, 2]) == [2, 1, 2]\n",
        "assert reverse3([1, 2, 1]) == [1, 2, 1]\n",
        "assert reverse3([2, 11, 3]) == [3, 11, 2]\n",
        "assert reverse3([0, 6, 5]) == [5, 6, 0]\n",
        "assert reverse3([7, 2, 3]) == [3, 2, 7]\n",
        "print(\" All testcases are passed!\")"
      ],
      "execution_count": 79,
      "outputs": [
        {
          "output_type": "stream",
          "text": [
            " All testcases are passed!\n"
          ],
          "name": "stdout"
        }
      ]
    },
    {
      "metadata": {
        "id": "fOzH2osMXReq",
        "colab_type": "text"
      },
      "cell_type": "markdown",
      "source": [
        "Given an array of ints length 3, figure out which is larger, the first or last element in the array, and set all the other elements to be that value. Return the changed array.\n",
        "\n",
        "\n",
        "max_end3([1, 2, 3]) → [3, 3, 3]\n",
        "max_end3([11, 5, 9]) → [11, 11, 11]\n",
        "max_end3([2, 11, 3]) → [3, 3, 3]"
      ]
    },
    {
      "metadata": {
        "id": "42JFbxMyXd-r",
        "colab_type": "code",
        "colab": {
          "base_uri": "https://localhost:8080/",
          "height": 34
        },
        "outputId": "36a561cf-469a-4f02-dd8e-9be472c48fbc"
      },
      "cell_type": "code",
      "source": [
        "def max_end3(nums):\n",
        "  large = max(nums[0],nums[len(nums)-1])\n",
        "  for i in range(len(nums)):\n",
        "    nums[i] = large\n",
        "  return nums\n",
        "assert max_end3([2, 11, 3]) == [3, 3, 3]\t\t\n",
        "assert max_end3([11, 3, 3]) == [11, 11, 11]\t\n",
        "assert max_end3([3, 11, 11]) == [11, 11, 11]\t\n",
        "assert max_end3([2, 2, 2]) == [2, 2, 2]\t\n",
        "assert max_end3([2, 11, 2]) == [2, 2, 2]\t\n",
        "assert max_end3([0, 0, 1]) == [1, 1, 1]\n",
        "print(\" All testcases are passed!\")"
      ],
      "execution_count": 100,
      "outputs": [
        {
          "output_type": "stream",
          "text": [
            " All testcases are passed!\n"
          ],
          "name": "stdout"
        }
      ]
    },
    {
      "metadata": {
        "id": "bSW3c2npYB6P",
        "colab_type": "text"
      },
      "cell_type": "markdown",
      "source": [
        "Given an array of ints, return the sum of the first 2 elements in the array. If the array length is less than 2, just sum up the elements that exist, returning 0 if the array is length 0.\n",
        "\n",
        "\n",
        "sum2([1, 2, 3]) → 3\n",
        "sum2([1, 1]) → 2\n",
        "sum2([1, 1, 1, 1]) → 2"
      ]
    },
    {
      "metadata": {
        "id": "Iror1XnWYJXe",
        "colab_type": "code",
        "colab": {
          "base_uri": "https://localhost:8080/",
          "height": 34
        },
        "outputId": "9b96e817-6c43-4816-d638-5b1b7515f3d6"
      },
      "cell_type": "code",
      "source": [
        "def sum2(nums):\n",
        "  sum = 0\n",
        "  if len(nums) != 0:\n",
        "    if len(nums) == 1:\n",
        "      return nums[0]\n",
        "    else: \n",
        "      for i in range(2):\n",
        "        sum += nums[i]\n",
        "      return sum\n",
        "  else:\n",
        "    return 0\n",
        "assert sum2([1, 1, 1, 1]) == 2\t\t\n",
        "assert sum2([1, 2]) == 3\t\n",
        "assert sum2([1])== 1\t\n",
        "assert sum2([])== 0\n",
        "assert sum2([4, 5, 6]) == 9\n",
        "assert sum2([4]) == 4\n",
        "print(\" All testcases are passed!\")"
      ],
      "execution_count": 108,
      "outputs": [
        {
          "output_type": "stream",
          "text": [
            " All testcases are passed!\n"
          ],
          "name": "stdout"
        }
      ]
    },
    {
      "metadata": {
        "id": "NO-xD9xRYVum",
        "colab_type": "text"
      },
      "cell_type": "markdown",
      "source": [
        "Given 2 int arrays, a and b, each length 3, return a new array length 2 containing their middle elements.\n",
        "\n",
        "\n",
        "middle_way([1, 2, 3], [4, 5, 6]) → [2, 5]\n",
        "middle_way([7, 7, 7], [3, 8, 0]) → [7, 8]\n",
        "middle_way([5, 2, 9], [1, 4, 5]) → [2, 4]"
      ]
    },
    {
      "metadata": {
        "id": "8HfSD9BiYdow",
        "colab_type": "code",
        "colab": {
          "base_uri": "https://localhost:8080/",
          "height": 34
        },
        "outputId": "32dcc3ba-d582-4f24-ec37-594fe241dd47"
      },
      "cell_type": "code",
      "source": [
        "def middle_way(a, b):\n",
        "  new = [a[1],b[1]]\n",
        "  return new\n",
        "  \n",
        "assert middle_way([7, 7, 7], [3, 8, 0]) == [7, 8]\n",
        "assert middle_way([5, 2, 9], [1, 4, 5]) == [2, 4]\t\n",
        "assert middle_way([1, 9, 7], [4, 8, 8]) == [9, 8]\n",
        "assert middle_way([1, 2, 3], [3, 1, 4]) == [2, 1]\n",
        "assert middle_way([1, 2, 3], [4, 1, 1]) == [2, 1]\n",
        "print(\" All testcases are passed!\")"
      ],
      "execution_count": 109,
      "outputs": [
        {
          "output_type": "stream",
          "text": [
            " All testcases are passed!\n"
          ],
          "name": "stdout"
        }
      ]
    },
    {
      "metadata": {
        "id": "Yw8hyJz_Y1f5",
        "colab_type": "text"
      },
      "cell_type": "markdown",
      "source": [
        "Given an array of ints, return a new array length 2 containing the first and last elements from the original array. The original array will be length 1 or more.\n",
        "\n",
        "\n",
        "make_ends([1, 2, 3]) → [1, 3]\n",
        "make_ends([1, 2, 3, 4]) → [1, 4]\n",
        "make_ends([7, 4, 6, 2]) → [7, 2]"
      ]
    },
    {
      "metadata": {
        "id": "Uw3tU1XHY75M",
        "colab_type": "code",
        "colab": {
          "base_uri": "https://localhost:8080/",
          "height": 34
        },
        "outputId": "b83a58ea-6b5c-4745-d5a4-8ce502393868"
      },
      "cell_type": "code",
      "source": [
        "def make_ends(nums):\n",
        "  return [nums[0],nums[len(nums)-1]]\n",
        "assert make_ends([7, 4, 6, 2]) == [7, 2]\t\n",
        "assert make_ends([1, 2, 2, 2, 2, 2, 2, 3]) == [1, 3]\t\n",
        "assert make_ends([7, 4]) == [7, 4]\n",
        "assert make_ends([7]) == [7, 7]\t\n",
        "assert make_ends([5, 2, 9]) == [5, 9]\t\n",
        "assert make_ends([2, 3, 4, 1]) == [2, 1]\t\n",
        "print(\" All testcases are passed!\")"
      ],
      "execution_count": 110,
      "outputs": [
        {
          "output_type": "stream",
          "text": [
            " All testcases are passed!\n"
          ],
          "name": "stdout"
        }
      ]
    },
    {
      "metadata": {
        "id": "cQ_I-KBPb-PK",
        "colab_type": "text"
      },
      "cell_type": "markdown",
      "source": [
        "Given an int array length 2, return True if it contains a 2 or a 3.\n",
        "\n",
        "\n",
        "has23([2, 5]) → True\n",
        "has23([4, 3]) → True\n",
        "has23([4, 5]) → False"
      ]
    },
    {
      "metadata": {
        "id": "ZBVkwj1BcDFH",
        "colab_type": "code",
        "colab": {
          "base_uri": "https://localhost:8080/",
          "height": 34
        },
        "outputId": "ae2fc2b3-acd6-4a27-e74f-121cad5cd62b"
      },
      "cell_type": "code",
      "source": [
        "def has23(nums):\n",
        "  return 2 in nums or 3 in nums\n",
        "assert has23([2, 2]) == True\t\n",
        "assert has23([3, 2]) == True\t\t\n",
        "assert has23([3, 3]) == True\t\n",
        "assert has23([7, 7]) == False\t\n",
        "assert has23([3, 9]) == True\t\t\n",
        "assert has23([9, 5]) == False\n",
        "print(\" All testcases are passed!\")"
      ],
      "execution_count": 111,
      "outputs": [
        {
          "output_type": "stream",
          "text": [
            " All testcases are passed!\n"
          ],
          "name": "stdout"
        }
      ]
    },
    {
      "metadata": {
        "id": "ve80ozevcXMA",
        "colab_type": "text"
      },
      "cell_type": "markdown",
      "source": [
        "Return the number of even ints in the given array. Note: the % \"mod\" operator computes the remainder, e.g. 5 % 2 is 1.\n",
        "\n",
        "\n",
        "count_evens([2, 1, 2, 3, 4]) → 3\n",
        "count_evens([2, 2, 0]) → 3\n",
        "count_evens([1, 3, 5]) → 0"
      ]
    },
    {
      "metadata": {
        "id": "Iaae3AD3cYFj",
        "colab_type": "code",
        "colab": {
          "base_uri": "https://localhost:8080/",
          "height": 34
        },
        "outputId": "61df8356-e14c-4d6f-cb5c-79a80053ec31"
      },
      "cell_type": "code",
      "source": [
        "def count_evens(nums):\n",
        "  count = 0\n",
        "  for i in nums:\n",
        "    if i% 2 == 0:\n",
        "      count += 1\n",
        "  return count\n",
        "assert count_evens([2, 1, 2, 3, 4])== 3\t\n",
        "assert count_evens([2, 2, 0]) == 3\t\n",
        "assert count_evens([1, 3, 5]) == 0\n",
        "assert count_evens([]) == 0\t\n",
        "assert count_evens([11, 9, 0, 1]) == 1\t\n",
        "assert count_evens([2, 11, 9, 0]) == 2\t\n",
        "assert count_evens([2]) == 1\t\n",
        "assert count_evens([2, 5, 12]) == 2\t\n",
        "print(\" All testcases are passed!\")"
      ],
      "execution_count": 112,
      "outputs": [
        {
          "output_type": "stream",
          "text": [
            " All testcases are passed!\n"
          ],
          "name": "stdout"
        }
      ]
    },
    {
      "metadata": {
        "id": "Max5tQBEckqN",
        "colab_type": "text"
      },
      "cell_type": "markdown",
      "source": [
        "Given an array length 1 or more of ints, return the difference between the largest and smallest values in the array. Note: the built-in min(v1, v2) and max(v1, v2) functions return the smaller or larger of two values.\n",
        "\n",
        "\n",
        "big_diff([10, 3, 5, 6]) → 7\n",
        "big_diff([7, 2, 10, 9]) → 8\n",
        "big_diff([2, 10, 7, 2]) → 8"
      ]
    },
    {
      "metadata": {
        "id": "zqyy4o7zco3r",
        "colab_type": "code",
        "colab": {
          "base_uri": "https://localhost:8080/",
          "height": 34
        },
        "outputId": "02fb8f7e-cb02-4dc1-f333-5ca91871b6c3"
      },
      "cell_type": "code",
      "source": [
        "def big_diff(nums):\n",
        "  return max(nums)-min(nums)\n",
        "assert big_diff([10, 2]) == 8\n",
        "assert big_diff([10, 0]) == 10\t\n",
        "assert big_diff([2, 3]) == 1\t\t\n",
        "assert big_diff([2, 2]) == 0\t\t\n",
        "assert big_diff([2]) == 0\t\t\n",
        "assert big_diff([5, 1, 6, 1, 9, 9]) == 8\t\n",
        "assert big_diff([7, 6, 8, 5]) == 3\t\n",
        "assert big_diff([7, 7, 6, 8, 5, 5, 6]) == 3\n",
        "print(\" All testcases are passed!\")"
      ],
      "execution_count": 184,
      "outputs": [
        {
          "output_type": "stream",
          "text": [
            " All testcases are passed!\n"
          ],
          "name": "stdout"
        }
      ]
    },
    {
      "metadata": {
        "id": "eM6e-9Uod_Ad",
        "colab_type": "text"
      },
      "cell_type": "markdown",
      "source": [
        "Return the \"centered\" average of an array of ints, which we'll say is the mean average of the values, except ignoring the largest and smallest values in the array. If there are multiple copies of the smallest value, ignore just one copy, and likewise for the largest value. Use int division to produce the final average. You may assume that the array is length 3 or more.\n",
        "\n",
        "\n",
        "centered_average([1, 2, 3, 4, 100]) → 3\n",
        "centered_average([1, 1, 5, 5, 10, 8, 7]) → 5\n",
        "centered_average([-10, -4, -2, -4, -2, 0]) → -3"
      ]
    },
    {
      "metadata": {
        "id": "HNV1ybzbeF0i",
        "colab_type": "code",
        "colab": {
          "base_uri": "https://localhost:8080/",
          "height": 34
        },
        "outputId": "661666a4-e0aa-459a-c858-aacf601281d7"
      },
      "cell_type": "code",
      "source": [
        "def centered_average(nums):\n",
        "  new = []\n",
        "  nums.sort()\n",
        "  nums.pop()\n",
        "  nums.pop(0)\n",
        "  for num in nums:\n",
        "    if num not in new:\n",
        "      new.append(num)  \n",
        "  return sum(new)//len(new)\n",
        "      \n",
        "assert centered_average([-10, -4, -2, -4, -2, 0]) == -3\t\n",
        "assert centered_average([5, 3, 4, 6, 2]) == 4\t\t\n",
        "assert centered_average([5, 3, 4, 0, 100]) == 4\t\n",
        "assert centered_average([100, 0, 5, 3, 4]) == 4\n",
        "assert centered_average([4, 0, 100]) == 4\t\n",
        "assert centered_average([0, 2, 3, 4, 100]) == 3\t\n",
        "assert centered_average([1, 1, 100]) == 1\t\n",
        "assert centered_average([7, 7, 7]) == 7\t\n",
        "print(\" All testcases are passed!\")"
      ],
      "execution_count": 183,
      "outputs": [
        {
          "output_type": "stream",
          "text": [
            " All testcases are passed!\n"
          ],
          "name": "stdout"
        }
      ]
    },
    {
      "metadata": {
        "id": "JMn-grrzeSsQ",
        "colab_type": "text"
      },
      "cell_type": "markdown",
      "source": [
        "Return the sum of the numbers in the array, returning 0 for an empty array. Except the number 13 is very unlucky, so it does not count and numbers that come immediately after a 13 also do not count.\n",
        "\n",
        "\n",
        "sum13([1, 2, 2, 1]) → 6\n",
        "sum13([1, 1]) → 2\n",
        "sum13([1, 2, 2, 1, 13]) → 6"
      ]
    },
    {
      "metadata": {
        "id": "qodR8M2VeZul",
        "colab_type": "code",
        "colab": {
          "base_uri": "https://localhost:8080/",
          "height": 34
        },
        "outputId": "8bd634f9-8233-49c8-c1e7-35d37650b462"
      },
      "cell_type": "code",
      "source": [
        "def sum13(nums):\n",
        "  sum = 0\n",
        "  if len(nums) != 0:\n",
        "    i = 0\n",
        "    while(i<len(nums)):\n",
        "      if nums[i] == 13:\n",
        "        sum = sum\n",
        "        i = i+2\n",
        "      else:\n",
        "        sum+=nums[i]\n",
        "        i+=1\n",
        "  return sum      \n",
        "assert sum13([1, 2, 2, 1, 13]) == 6\n",
        "assert sum13([1, 2, 13, 2, 1, 13]) == 4\t\t\n",
        "assert sum13([13, 1, 2, 13, 2, 1, 13]) == 3\t\n",
        "assert sum13([]) == 0\n",
        "assert sum13([13]) == 0\n",
        "assert sum13([13, 13]) == 0\n",
        "assert sum13([13, 0, 13]) == 0\t\n",
        "assert sum13([13, 1, 13]) == 0\n",
        "print(\" All testcases are passed!\")"
      ],
      "execution_count": 171,
      "outputs": [
        {
          "output_type": "stream",
          "text": [
            " All testcases are passed!\n"
          ],
          "name": "stdout"
        }
      ]
    },
    {
      "metadata": {
        "id": "Ekxg3w-nfeHm",
        "colab_type": "text"
      },
      "cell_type": "markdown",
      "source": [
        "Return the sum of the numbers in the array, except ignore sections of numbers starting with a 6 and extending to the next 7 (every 6 will be followed by at least one 7). Return 0 for no numbers.\n",
        "\n",
        "\n",
        "sum67([1, 2, 2]) → 5\n",
        "sum67([1, 2, 2, 6, 99, 99, 7]) → 5\n",
        "sum67([1, 1, 6, 7, 2]) → 4"
      ]
    },
    {
      "metadata": {
        "id": "hZvyveNSfneh",
        "colab_type": "code",
        "colab": {
          "base_uri": "https://localhost:8080/",
          "height": 34
        },
        "outputId": "ea952fe5-cce7-4b40-c212-7e7b207031fb"
      },
      "cell_type": "code",
      "source": [
        "def sum67(nums):\n",
        "  new = []\n",
        "  for i in range(len(nums)):\n",
        "    if nums[i] == 6:\n",
        "      start = i\n",
        "      for j in range(i+1,len(nums)):\n",
        "        if nums[j] == 7:\n",
        "          stop = j\n",
        "          new.append((start,stop))\n",
        "          break\n",
        "  for item in new:\n",
        "    for i in range(item[0],item[1]+1):\n",
        "      nums[i] = 0\n",
        "  return sum(nums)\n",
        "    \n",
        "assert sum67([6, 7, 1, 6, 7, 7]) == 8       \n",
        "assert sum67([2, 7, 6, 2, 6, 2, 7]) == 9\n",
        "assert sum67([2, 7, 6, 2, 6, 7, 2, 7]) == 18\t\n",
        "assert sum67([1, 6, 7, 7]) == 8\n",
        "assert sum67([6, 8, 1, 6, 7]) == 0\n",
        "assert sum67([]) == 0\t\n",
        "assert sum67([6, 7, 11]) == 11\n",
        "assert sum67([11, 6, 7, 11]) == 22\n",
        "assert sum67([2, 2, 6, 7, 7]) == 11\t\n",
        "print(\" All testcases are passed!\")"
      ],
      "execution_count": 245,
      "outputs": [
        {
          "output_type": "stream",
          "text": [
            " All testcases are passed!\n"
          ],
          "name": "stdout"
        }
      ]
    },
    {
      "metadata": {
        "id": "DgwgpCYNfyhG",
        "colab_type": "text"
      },
      "cell_type": "markdown",
      "source": [
        "Given an array of ints, return True if the array contains a 2 next to a 2 somewhere.\n",
        "\n",
        "\n",
        "has22([1, 2, 2]) → True\n",
        "has22([1, 2, 1, 2]) → False\n",
        "has22([2, 1, 2]) → False"
      ]
    },
    {
      "metadata": {
        "id": "z6bUtcxBgJJc",
        "colab_type": "code",
        "colab": {
          "base_uri": "https://localhost:8080/",
          "height": 34
        },
        "outputId": "65c0416c-cb36-4d60-9e51-d7d745c76317"
      },
      "cell_type": "code",
      "source": [
        "def has22(nums):\n",
        "  for i in range(len(nums)-1):\n",
        "    if nums[i] == 2 and nums[i+1] == 2:\n",
        "      return True\n",
        "  return False\n",
        "assert has22([1, 3, 2, 2]) == True\t\n",
        "assert has22([2, 3, 2, 2]) == True\t\n",
        "assert has22([4, 2, 4, 2, 2, 5]) == True\n",
        "assert has22([1, 2]) == False\n",
        "assert has22([2, 2]) == True\n",
        "assert has22([2]) == False\t\n",
        "assert has22([]) == False\t\n",
        "assert has22([3, 3, 2, 2]) ==True\t\n",
        "print(\" All testcases are passed!\")"
      ],
      "execution_count": 116,
      "outputs": [
        {
          "output_type": "stream",
          "text": [
            " All testcases are passed!\n"
          ],
          "name": "stdout"
        }
      ]
    }
  ]
}