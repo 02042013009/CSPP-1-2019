{
  "nbformat": 4,
  "nbformat_minor": 0,
  "metadata": {
    "colab": {
      "name": "pop_programming_assessment.ipynb",
      "version": "0.3.2",
      "provenance": [],
      "collapsed_sections": [],
      "include_colab_link": true
    },
    "kernelspec": {
      "name": "python3",
      "display_name": "Python 3"
    }
  },
  "cells": [
    {
      "cell_type": "markdown",
      "metadata": {
        "id": "view-in-github",
        "colab_type": "text"
      },
      "source": [
        "<a href=\"https://colab.research.google.com/github/02042013009/CSPP-1-2019/blob/master/pop_programming_assessment.ipynb\" target=\"_parent\"><img src=\"https://colab.research.google.com/assets/colab-badge.svg\" alt=\"Open In Colab\"/></a>"
      ]
    },
    {
      "metadata": {
        "id": "RRsckWVcgslE",
        "colab_type": "text"
      },
      "cell_type": "markdown",
      "source": [
        "# Pop Programming Assessment\n",
        "\n",
        "Answer all the questions given below. The scores of this test do not count toward your course grade. Total test time is one hour. Before you proceed share your document with pg@fju.us and manasa_a@msitprogram.net\n"
      ]
    },
    {
      "metadata": {
        "id": "rnjp_qo2jr-Q",
        "colab_type": "text"
      },
      "cell_type": "markdown",
      "source": [
        "# Question 1\n",
        "\n",
        "Find the average of the first n prime numbers."
      ]
    },
    {
      "metadata": {
        "id": "54bN0OVAgmLi",
        "colab_type": "code",
        "colab": {
          "base_uri": "https://localhost:8080/",
          "height": 34
        },
        "outputId": "22e79550-08ae-4b9a-8065-4bfacec6862e"
      },
      "cell_type": "code",
      "source": [
        "def check_prime(num):\n",
        "  if num == 2: return True\n",
        "  for i in range(2,num):\n",
        "    if num%i == 0:\n",
        "      return False\n",
        "  return True\n",
        "def avg_n_primes(n):\n",
        "  i = 0\n",
        "  num = 2\n",
        "  mylist = []\n",
        "  while i < n:\n",
        "    if check_prime(num):\n",
        "      mylist.append(num)\n",
        "      i+=1\n",
        "    num+=1\n",
        "  return sum(mylist)//len(mylist)\n",
        "       \n",
        "assert avg_n_primes(5) == 5\n",
        "assert avg_n_primes(3) == 3\n",
        "assert avg_n_primes(6) == 6\n",
        "assert avg_n_primes(1) == 2\n",
        "assert avg_n_primes(2) == 2\n",
        "print(\"All testcases are passed\")\n"
      ],
      "execution_count": 71,
      "outputs": [
        {
          "output_type": "stream",
          "text": [
            "All testcases are passed\n"
          ],
          "name": "stdout"
        }
      ]
    },
    {
      "metadata": {
        "id": "3t7GR1M5kHon",
        "colab_type": "text"
      },
      "cell_type": "markdown",
      "source": [
        "# Question 2\n",
        "\n",
        "Extract all the strings that are surrounded with <b> </b> html tags. Return the strings as a list."
      ]
    },
    {
      "metadata": {
        "id": "f6ih0KcVkgd2",
        "colab_type": "code",
        "colab": {
          "base_uri": "https://localhost:8080/",
          "height": 34
        },
        "outputId": "3b25ef85-04ec-4d6c-e3d6-29016d6b838d"
      },
      "cell_type": "code",
      "source": [
        "def get_bold_strings(html):\n",
        "  if len(html) == 0:\n",
        "    return []\n",
        "  if \"<b>\" not in html:\n",
        "    return []\n",
        "  loopcount = html.count(\"<b>\")\n",
        "  html = html[html.find(\"<b>\"):]\n",
        "  mylist = []\n",
        "  i = 0\n",
        "  while i < loopcount:\n",
        "    substr = html[html.find(\"<b>\") +len(\"<b>\"):html.find(\"</b>\")]\n",
        "    mylist.append(substr)\n",
        "    html = html[html.find(\"</b>\") +len(\"</b>\"):]\n",
        "    i = i+1\n",
        "  return mylist\n",
        "    \n",
        "s = \"<b>H</b><b>e</b><b>ll</b><b>o</b>\"\n",
        "assert get_bold_strings(s) == [\"H\", \"e\", \"ll\", \"o\"]\n",
        "s = \"<b>Hello World!</b>\"\n",
        "assert get_bold_strings(s) == [\"Hello World!\"]\n",
        "\n",
        "\n",
        "s = \"Hello World!\"\n",
        "assert get_bold_strings(s) == []\n",
        "\n",
        "s = \"\"\n",
        "assert get_bold_strings(s) == []\n",
        "\n",
        "s = \"Hell<b>o </b>World<b>!</b>\"\n",
        "assert get_bold_strings(s) == [\"o \", \"!\"]\n",
        "s = \"<b>He</b>llo <b>W</b>orld<b>!</b>\"\n",
        "assert get_bold_strings(s) == [\"He\", \"W\", \"!\"]\n",
        "print(\"All testcases are passed\")"
      ],
      "execution_count": 40,
      "outputs": [
        {
          "output_type": "stream",
          "text": [
            "All testcases are passed\n"
          ],
          "name": "stdout"
        }
      ]
    }
  ]
}