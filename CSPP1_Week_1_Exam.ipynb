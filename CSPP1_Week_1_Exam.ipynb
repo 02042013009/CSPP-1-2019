{
  "nbformat": 4,
  "nbformat_minor": 0,
  "metadata": {
    "colab": {
      "name": "CSPP1_Week_1_Exam.ipynb",
      "version": "0.3.2",
      "provenance": [],
      "collapsed_sections": [],
      "include_colab_link": true
    },
    "kernelspec": {
      "name": "python3",
      "display_name": "Python 3"
    }
  },
  "cells": [
    {
      "cell_type": "markdown",
      "metadata": {
        "id": "view-in-github",
        "colab_type": "text"
      },
      "source": [
        "<a href=\"https://colab.research.google.com/github/02042013009/CSPP-1-2019/blob/master/CSPP1_Week_1_Exam.ipynb\" target=\"_parent\"><img src=\"https://colab.research.google.com/assets/colab-badge.svg\" alt=\"Open In Colab\"/></a>"
      ]
    },
    {
      "metadata": {
        "id": "c0vHu9E0i4E4",
        "colab_type": "text"
      },
      "cell_type": "markdown",
      "source": [
        "# Section B of the Week 1 Exam\n",
        "\n",
        "In this section you have to write python code for extracting data from a string which is in the HTML format. For the extracted data find the min, max and average values for the given data. Don't worry, you don't need to know everything about HTML but you need to know how to process strings. Here is the example data.\n",
        "\n",
        "<table>\n",
        "    <tr>\n",
        "      <th>Person</th>\n",
        "\n",
        "      <th>Age</th>\n",
        "    </tr>\n",
        "\n",
        "    <tr>\n",
        "      <td>Bob</td>\n",
        "\n",
        "      <td>45</td>\n",
        "    </tr>\n",
        "\n",
        "    <tr>\n",
        "      <td>Eric</td>\n",
        "\n",
        "      <td>23</td>\n",
        "    </tr>\n",
        "\n",
        "    <tr>\n",
        "      <td>Ed</td>\n",
        "\n",
        "      <td>35</td>\n",
        "    </tr>\n",
        "\n",
        "    <tr>\n",
        "      <td>Tom</td>\n",
        "\n",
        "      <td>67</td>\n",
        "    </tr>\n",
        "\n",
        "    <tr>\n",
        "      <td>Amy</td>\n",
        "\n",
        "      <td>19</td>\n",
        "    </tr>\n",
        "\n",
        "    <tr>\n",
        "      <td>Rose</td>\n",
        "\n",
        "      <td>32</td>\n",
        "    </tr>\n",
        "  </table>\n",
        "  \n",
        "  The string format of this data looks like this \n",
        "\n",
        "```\n",
        "<table>\n",
        "    <tr>\n",
        "      <th>Person</th>\n",
        "\n",
        "      <th>Age</th>\n",
        "    </tr>\n",
        "\n",
        "    <tr>\n",
        "      <td>Bob</td>\n",
        "\n",
        "      <td>45</td>\n",
        "    </tr>\n",
        "\n",
        "    <tr>\n",
        "      <td>Eric</td>\n",
        "\n",
        "      <td>23</td>\n",
        "    </tr>\n",
        "\n",
        "    <tr>\n",
        "      <td>Ed</td>\n",
        "\n",
        "      <td>35</td>\n",
        "    </tr>\n",
        "\n",
        "    <tr>\n",
        "      <td>Tom</td>\n",
        "\n",
        "      <td>67</td>\n",
        "    </tr>\n",
        "\n",
        "    <tr>\n",
        "      <td>Amy</td>\n",
        "\n",
        "      <td>19</td>\n",
        "    </tr>\n",
        "\n",
        "    <tr>\n",
        "      <td>Rose</td>\n",
        "\n",
        "      <td>32</td>\n",
        "    </tr>\n",
        "  </table>\n",
        "```\n",
        "\n"
      ]
    },
    {
      "metadata": {
        "id": "lMMqDlTtlnSN",
        "colab_type": "text"
      },
      "cell_type": "markdown",
      "source": [
        "### Implement a function count that takes a HTML string and returns the count of records in the table\n",
        "\n",
        "The sample table given above has 6 rows. So, given this HTML string the function should return 6 as the count of rows. If there are no rows in the table then the count should be 0."
      ]
    },
    {
      "metadata": {
        "id": "HfGwrbQJmwk7",
        "colab_type": "code",
        "outputId": "511889c7-c1a6-49d0-d951-cb5fc385f2e8",
        "colab": {
          "base_uri": "https://localhost:8080/",
          "height": 34
        }
      },
      "cell_type": "code",
      "source": [
        "def count(html):\n",
        "  mylist = []\n",
        "  for i in range(len(html)-1):\n",
        "    substr = html[i:i+2]\n",
        "    if substr[0].isdigit() and substr[1].isdigit():\n",
        "      mylist.append(int(substr))\n",
        "  return len(mylist)\n",
        "\n",
        "assert count('''<table><tr><th>Person</th><th>Age</th></tr><tr><td>Bob</td><td>45</td></tr><tr><td>Eric</td><td>23</td></tr><tr><td>Ed</td><td>35</td></tr><tr><td>Tom</td><td>67</td></tr><tr><td>Amy</td><td>19</td></tr><tr><td>Rose</td><td>32</td></tr></table>\n",
        "''') == 6\n",
        "assert count('''<table><tr><th>Person</th><th>Age</th></tr><tr><td>Bob</td><td>45</td></tr><tr><td>Eric</td><td>23</td></tr><tr><td>Ed</td><td>35</td></tr></table>\n",
        "''') == 3\n",
        "assert count('''<table><tr><th>Person</th><th>Age</th></tr><tr><td>Bob</td><td>45</td></tr></table>''') == 1\n",
        "assert count(\"\") == 0\n",
        "print(\"All testcases are passed\")"
      ],
      "execution_count": 21,
      "outputs": [
        {
          "output_type": "stream",
          "text": [
            "All testcases are passed\n"
          ],
          "name": "stdout"
        }
      ]
    },
    {
      "metadata": {
        "id": "kkc7ANAQovOq",
        "colab_type": "text"
      },
      "cell_type": "markdown",
      "source": [
        "### Implement a function getAge that takes a HTML string and returns the age of the first person in the table\n",
        "\n",
        "The sample table has 6 rows. So, given this HTML string the function getAge should return 45. If there data in the table then it should return None.\n"
      ]
    },
    {
      "metadata": {
        "id": "WJdFg60oqJqb",
        "colab_type": "code",
        "outputId": "9d486073-198c-4f8f-e77a-56626d747b39",
        "colab": {
          "base_uri": "https://localhost:8080/",
          "height": 34
        }
      },
      "cell_type": "code",
      "source": [
        "def get_age(html):\n",
        "  mylist = []\n",
        "  if len(html) != 0:\n",
        "    for i in range(len(html)-1):\n",
        "      substr = html[i:i+2]\n",
        "      if substr[0].isdigit() and substr[1].isdigit():\n",
        "        mylist.append(int(substr))\n",
        "    return mylist[0]\n",
        "  else:\n",
        "    return None\n",
        "\n",
        "assert get_age('''<table><tr><th>Person</th><th>Age</th></tr><tr><td>Bob</td><td>45</td></tr><tr><td>Eric</td><td>23</td></tr><tr><td>Ed</td><td>35</td></tr><tr><td>Tom</td><td>67</td></tr><tr><td>Amy</td><td>19</td></tr><tr><td>Rose</td><td>32</td></tr></table>\n",
        "''') == 45\n",
        "assert get_age('''<table><tr><th>Person</th><th>Age</th></tr><tr><td>Eric</td><td>23</td></tr><tr><td>Ed</td><td>35</td></tr></table>\n",
        "''') == 23\n",
        "assert get_age('''<table><tr><th>Person</th><th>Age</th></tr><tr><td>Tom</td><td>67</td></tr></table>''') == 67\n",
        "assert get_age(\"\") == None\n",
        "print(\"All testcases are passed\")"
      ],
      "execution_count": 19,
      "outputs": [
        {
          "output_type": "stream",
          "text": [
            "All testcases are passed\n"
          ],
          "name": "stdout"
        }
      ]
    },
    {
      "metadata": {
        "id": "Dxy_-MlGqhyB",
        "colab_type": "text"
      },
      "cell_type": "markdown",
      "source": [
        "### Implement a function getAge that takes a HTML string and returns the age of the nth person in the table\n",
        "\n",
        "The sample table has 6 rows. So, given this HTML string the function getAge with n as 1 should return 45 and if n is 2 it should return 23. In case n does not exist it should return None.\n",
        "\n"
      ]
    },
    {
      "metadata": {
        "id": "2PajXNForANv",
        "colab_type": "code",
        "outputId": "ac984b06-3cad-475c-ce37-9253c351f08f",
        "colab": {
          "base_uri": "https://localhost:8080/",
          "height": 34
        }
      },
      "cell_type": "code",
      "source": [
        "def get_age(html, n):\n",
        "  mylist = []\n",
        "  for i in range(len(html)-1):\n",
        "    substr = html[i:i+2]\n",
        "    if substr[0].isdigit() and substr[1].isdigit():\n",
        "      mylist.append(int(substr))\n",
        "  if n < len(mylist):\n",
        "    return mylist[n-1]\n",
        "  else:\n",
        "    return None\n",
        "\n",
        "assert get_age('''<table><tr><th>Person</th><th>Age</th></tr><tr><td>Bob</td><td>45</td></tr><tr><td>Eric</td><td>23</td></tr><tr><td>Ed</td><td>35</td></tr><tr><td>Tom</td><td>67</td></tr><tr><td>Amy</td><td>19</td></tr><tr><td>Rose</td><td>32</td></tr></table>\n",
        "''', 1) == 45\n",
        "assert get_age('''<table><tr><th>Person</th><th>Age</th></tr><tr><td>Bob</td><td>45</td></tr><tr><td>Eric</td><td>23</td></tr><tr><td>Ed</td><td>35</td></tr><tr><td>Tom</td><td>67</td></tr><tr><td>Amy</td><td>19</td></tr><tr><td>Rose</td><td>32</td></tr></table>\n",
        "''', 3) == 35\n",
        "assert get_age('''<table><tr><th>Person</th><th>Age</th></tr><tr><td>Bob</td><td>45</td></tr><tr><td>Eric</td><td>23</td></tr><tr><td>Ed</td><td>35</td></tr><tr><td>Tom</td><td>67</td></tr><tr><td>Amy</td><td>19</td></tr><tr><td>Rose</td><td>32</td></tr></table>\n",
        "''', 10) == None\n",
        "print(\"All testcases are passed\")"
      ],
      "execution_count": 18,
      "outputs": [
        {
          "output_type": "stream",
          "text": [
            "All testcases are passed\n"
          ],
          "name": "stdout"
        }
      ]
    },
    {
      "metadata": {
        "id": "22RULdpmrUVy",
        "colab_type": "text"
      },
      "cell_type": "markdown",
      "source": [
        "### Implement a function average_age that takes a HTML string and returns the average age of the people in the table\n",
        "\n",
        "The sample table has 6 rows. So, given this HTML string the function avg_age should return XXX. In case there are no rows, the function should return None. Fractional part of the average should be removed.\n"
      ]
    },
    {
      "metadata": {
        "id": "G3JtrY8ysKfo",
        "colab_type": "code",
        "outputId": "af8d0635-b9bf-401a-c6c1-863d7021dce9",
        "colab": {
          "base_uri": "https://localhost:8080/",
          "height": 34
        }
      },
      "cell_type": "code",
      "source": [
        "def avg_age(html):\n",
        "  mylist = []\n",
        "  if len(html) != 0:\n",
        "    for i in range(len(html)-1):\n",
        "      substr = html[i:i+2]\n",
        "      if substr[0].isdigit() and substr[1].isdigit():\n",
        "        mylist.append(int(substr))\n",
        "    return sum(mylist)//len(mylist)\n",
        "  else:\n",
        "    return None      \n",
        "        \n",
        "\n",
        "assert avg_age('''<table><tr><th>Person</th><th>Age</th></tr><tr><td>Bob</td><td>45</td></tr><tr><td>Eric</td><td>23</td></tr><tr><td>Ed</td><td>35</td></tr><tr><td>Tom</td><td>67</td></tr><tr><td>Amy</td><td>19</td></tr><tr><td>Rose</td><td>32</td></tr></table>\n",
        "''') == 36\n",
        "assert avg_age('''<table><tr><th>Person</th><th>Age</th></tr><tr><td>Eric</td><td>23</td></tr><tr><td>Ed</td><td>35</td></tr></table>''') == 29\n",
        "assert avg_age(\"\") == None\n",
        "print(\"All testcases are passed\")\n"
      ],
      "execution_count": 12,
      "outputs": [
        {
          "output_type": "stream",
          "text": [
            "All testcases are passed\n"
          ],
          "name": "stdout"
        }
      ]
    },
    {
      "metadata": {
        "id": "IHwdYk6cgzFP",
        "colab_type": "code",
        "colab": {
          "base_uri": "https://localhost:8080/",
          "height": 102
        },
        "outputId": "1673309f-0a54-4555-95f0-225ed4e105f2"
      },
      "cell_type": "code",
      "source": [
        "str=\"so1am\"\n",
        "for s in str:\n",
        "  if s.isdigit():\n",
        "    print(\"true\")\n",
        "  else:\n",
        "    print(\"false\")"
      ],
      "execution_count": 7,
      "outputs": [
        {
          "output_type": "stream",
          "text": [
            "false\n",
            "false\n",
            "true\n",
            "false\n",
            "false\n"
          ],
          "name": "stdout"
        }
      ]
    }
  ]
}