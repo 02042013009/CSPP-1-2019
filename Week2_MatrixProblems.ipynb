{
  "nbformat": 4,
  "nbformat_minor": 0,
  "metadata": {
    "colab": {
      "name": "Week2_MatrixProblems.ipynb",
      "version": "0.3.2",
      "provenance": [],
      "collapsed_sections": [],
      "include_colab_link": true
    },
    "kernelspec": {
      "name": "python3",
      "display_name": "Python 3"
    },
    "accelerator": "GPU"
  },
  "cells": [
    {
      "cell_type": "markdown",
      "metadata": {
        "id": "view-in-github",
        "colab_type": "text"
      },
      "source": [
        "<a href=\"https://colab.research.google.com/github/02042013009/CSPP-1-2019/blob/master/Week2_MatrixProblems.ipynb\" target=\"_parent\"><img src=\"https://colab.research.google.com/assets/colab-badge.svg\" alt=\"Open In Colab\"/></a>"
      ]
    },
    {
      "metadata": {
        "id": "Ec_qNMYfhXmR",
        "colab_type": "text"
      },
      "cell_type": "markdown",
      "source": [
        "You will be working on nested list which contains integers in this section. They are also called as matrices\n",
        "eg :\n",
        "m=[[1,2,3],[4,5,6],[7,8,9]]"
      ]
    },
    {
      "metadata": {
        "id": "Y4KDAM1Riuug",
        "colab_type": "text"
      },
      "cell_type": "markdown",
      "source": [
        "Write a program which returns the count of number of rows present in the given matrix"
      ]
    },
    {
      "metadata": {
        "id": "NGaFh9Msi80K",
        "colab_type": "code",
        "outputId": "76bd776d-81ab-4c29-f566-ed132945ba50",
        "colab": {
          "base_uri": "https://localhost:8080/",
          "height": 34
        }
      },
      "cell_type": "code",
      "source": [
        "def count_rows(matrix):\n",
        "  return len(matrix)\n",
        "\n",
        "input1 = eval(\"[[1,2,3],[4,5,6],[7,8,9]]\")\n",
        "assert count_rows(input1)==3\n",
        "input2 = eval(\"[[1,2,3],[4,5,6],[7,8,9],[10,11,12]]\")\n",
        "assert count_rows(input2)==4\n",
        "input3= eval(\"[[1,2,3]]\")\n",
        "assert count_rows(input3)==1\n",
        "input4=eval(\"[]\")\n",
        "assert count_rows(input4)==0\n",
        "print(\"All testcases are passed\")\n"
      ],
      "execution_count": 0,
      "outputs": [
        {
          "output_type": "stream",
          "text": [
            "All testcases are passed\n"
          ],
          "name": "stdout"
        }
      ]
    },
    {
      "metadata": {
        "id": "7yrUJGaxmNZv",
        "colab_type": "text"
      },
      "cell_type": "markdown",
      "source": [
        "Write  a program which returns the count of number of columns present in the given matrix"
      ]
    },
    {
      "metadata": {
        "id": "DN8IQNNkmjOK",
        "colab_type": "code",
        "outputId": "cdf0a661-6c78-4155-9f7a-6b783901f155",
        "colab": {
          "base_uri": "https://localhost:8080/",
          "height": 34
        }
      },
      "cell_type": "code",
      "source": [
        "def count_cols(matrix):\n",
        "  if len(matrix) == 0:\n",
        "    return 0\n",
        "  return len(matrix[0])\n",
        "\n",
        "input1 = eval(\"[[1,2,3],[4,5,6],[7,8,9]]\")\n",
        "assert count_cols(input1)==3\n",
        "input2 = eval(\"[[1,2,3,4,5],[4,5,6,7,8],[7,8,9,7,8],[10,11,12,6,7]]\")\n",
        "assert count_cols(input2)==5\n",
        "input3= eval(\"[[1,2,3]]\")\n",
        "assert count_cols(input3)==3\n",
        "input4=eval(\"[]\")\n",
        "assert count_cols(input4)==0\n",
        "print(\"All testcases are passed\")\n"
      ],
      "execution_count": 0,
      "outputs": [
        {
          "output_type": "stream",
          "text": [
            "All testcases are passed\n"
          ],
          "name": "stdout"
        }
      ]
    },
    {
      "metadata": {
        "id": "K5a_Bm9BndjY",
        "colab_type": "text"
      },
      "cell_type": "markdown",
      "source": [
        "Write a program that takes 2 matrices as input and performs the addition on the matrix and returns it as the result."
      ]
    },
    {
      "metadata": {
        "id": "cajokhxdoSqe",
        "colab_type": "code",
        "colab": {
          "base_uri": "https://localhost:8080/",
          "height": 34
        },
        "outputId": "23bb1de6-0d63-4afe-8b7d-021be17abf80"
      },
      "cell_type": "code",
      "source": [
        "def add(mat1, mat2):\n",
        "  result = []\n",
        "  for i in range(len(mat1)):\n",
        "    row = []\n",
        "    for j in range(len(mat1[0])):\n",
        "      row.append(mat1[i][j]+mat2[i][j])\n",
        "    result.append(row)\n",
        "  return result\n",
        "\n",
        "assert add([[1,2,3],[4,5,6],[7,8,9]],[[1,2,3],[4,5,6],[7,8,9]])==[[2,4,6],[8,10,12],[14,16,18]]\n",
        "print(\"All testcases are passed\")\n",
        "\n"
      ],
      "execution_count": 8,
      "outputs": [
        {
          "output_type": "stream",
          "text": [
            "All testcases are passed\n"
          ],
          "name": "stdout"
        }
      ]
    }
  ]
}