{
  "nbformat": 4,
  "nbformat_minor": 0,
  "metadata": {
    "colab": {
      "name": "Module - 4.ipynb",
      "version": "0.3.2",
      "provenance": [],
      "collapsed_sections": [],
      "include_colab_link": true
    },
    "kernelspec": {
      "name": "python3",
      "display_name": "Python 3"
    },
    "accelerator": "GPU"
  },
  "cells": [
    {
      "cell_type": "markdown",
      "metadata": {
        "id": "view-in-github",
        "colab_type": "text"
      },
      "source": [
        "<a href=\"https://colab.research.google.com/github/02042013009/CSPP-1-2019/blob/master/Module_4.ipynb\" target=\"_parent\"><img src=\"https://colab.research.google.com/assets/colab-badge.svg\" alt=\"Open In Colab\"/></a>"
      ]
    },
    {
      "metadata": {
        "id": "wm8RPddxYyvw",
        "colab_type": "text"
      },
      "cell_type": "markdown",
      "source": [
        "Given a string, return a string where for every char in the original, there are two chars.\n",
        "\n",
        "\n",
        "double_char('The') → 'TThhee'\n",
        "double_char('AAbb') → 'AAAAbbbb'\n",
        "double_char('Hi-There') → 'HHii--TThheerree'"
      ]
    },
    {
      "metadata": {
        "id": "xbiwQrJrY314",
        "colab_type": "code",
        "outputId": "64d081cd-d621-421c-b0b4-48a4b8a3cd86",
        "colab": {
          "base_uri": "https://localhost:8080/",
          "height": 34
        }
      },
      "cell_type": "code",
      "source": [
        "def double_char(str):\n",
        "  new = \"\"\n",
        "  for i in str:\n",
        "    new+=i*2\n",
        "  return new\n",
        "assert double_char('Hi-There') == 'HHii--TThheerree'\n",
        "assert double_char('Word!') == 'WWoorrdd!!'\t\n",
        "assert double_char('!!') == '!!!!'\n",
        "assert double_char('') == ''\n",
        "assert double_char('a') == 'aa'\n",
        "assert double_char('.') == '..'\n",
        "assert double_char('aa') == 'aaaa'\n",
        "print(\"All testcases are passed!\")"
      ],
      "execution_count": 0,
      "outputs": [
        {
          "output_type": "stream",
          "text": [
            "All testcases are passed!\n"
          ],
          "name": "stdout"
        }
      ]
    },
    {
      "metadata": {
        "id": "Zwm3uSQ7ZLhy",
        "colab_type": "text"
      },
      "cell_type": "markdown",
      "source": [
        "Return the number of times that the string \"hi\" appears anywhere in the given string.\n",
        "\n",
        "\n",
        "count_hi('abc hi ho') → 1\n",
        "count_hi('ABChi hi') → 2\n",
        "count_hi('hihi') → 2"
      ]
    },
    {
      "metadata": {
        "id": "Ms0JxstYZQeT",
        "colab_type": "code",
        "outputId": "43af07b8-91fd-4459-ea8d-a59ac2c744a8",
        "colab": {
          "base_uri": "https://localhost:8080/",
          "height": 34
        }
      },
      "cell_type": "code",
      "source": [
        "def count_hi(str):\n",
        "  return str.count('hi')\n",
        "assert count_hi('ABChi hi') == 2\t\n",
        "assert count_hi('hihi') == 2\t\n",
        "assert count_hi('hiHIhi') == 2\n",
        "assert count_hi('') == 0\n",
        "assert count_hi('h') == 0\t\n",
        "assert count_hi('hi') == 1\n",
        "print(\"All testcases are passed!\")"
      ],
      "execution_count": 0,
      "outputs": [
        {
          "output_type": "stream",
          "text": [
            "All testcases are passed!\n"
          ],
          "name": "stdout"
        }
      ]
    },
    {
      "metadata": {
        "id": "3OZ61SbAZfRM",
        "colab_type": "text"
      },
      "cell_type": "markdown",
      "source": [
        ""
      ]
    },
    {
      "metadata": {
        "id": "HUqRvqIwZoEk",
        "colab_type": "text"
      },
      "cell_type": "markdown",
      "source": [
        "Return True if the string \"cat\" and \"dog\" appear the same number of times in the given string.\n",
        "\n",
        "\n",
        "cat_dog('catdog') → True\n",
        "cat_dog('catcat') → False\n",
        "cat_dog('1cat1cadodog') → True"
      ]
    },
    {
      "metadata": {
        "id": "CXzhzyNDZpNT",
        "colab_type": "code",
        "outputId": "365da0b0-b449-4cc9-b984-a168198a6bd7",
        "colab": {
          "base_uri": "https://localhost:8080/",
          "height": 34
        }
      },
      "cell_type": "code",
      "source": [
        "def cat_dog(str):\n",
        "  return str.count('cat') == str.count('dog')\n",
        "assert cat_dog('catxxdogxxxdog') == False\n",
        "assert cat_dog('catxdogxdogxcat') == True\n",
        "assert cat_dog('catxdogxdogxca') == False\n",
        "assert cat_dog('dogdogcat') == False\n",
        "assert cat_dog('dogogcat') == True\n",
        "assert cat_dog('dog') == False\n",
        "assert cat_dog('cat') == False\n",
        "print(\"All testcases are passed!\")"
      ],
      "execution_count": 0,
      "outputs": [
        {
          "output_type": "stream",
          "text": [
            "All testcases are passed!\n"
          ],
          "name": "stdout"
        }
      ]
    },
    {
      "metadata": {
        "id": "0J7vCxd-Z7Qo",
        "colab_type": "text"
      },
      "cell_type": "markdown",
      "source": [
        "Return the number of times that the string \"code\" appears anywhere in the given string, except we'll accept any letter for the 'd', so \"cope\" and \"cooe\" count.\n",
        "\n",
        "\n",
        "count_code('aaacodebbb') → 1\n",
        "count_code('codexxcode') → 2\n",
        "count_code('cozexxcope') → 2"
      ]
    },
    {
      "metadata": {
        "id": "oMBQC0SyaGuF",
        "colab_type": "code",
        "outputId": "4a089097-e02f-4a51-a70b-5a5e234e0db2",
        "colab": {
          "base_uri": "https://localhost:8080/",
          "height": 34
        }
      },
      "cell_type": "code",
      "source": [
        "def count_code(str):\n",
        "  new = \"\"\n",
        "  for s in str:\n",
        "    if s not in ['c','o','d','e']:\n",
        "      new += 'd'\n",
        "    else:\n",
        "      new+=s\n",
        "  return new.count('code')\n",
        "assert count_code('cozexxcope') == 2\n",
        "assert count_code('cozfxxcope') == 1\n",
        "assert count_code('xxcozeyycop') == 1\t\n",
        "assert count_code('cozcop') == 0\n",
        "assert count_code('abcxyz') == 0\n",
        "assert count_code('code') == 1\n",
        "assert count_code('ode') == 0\n",
        "assert count_code('c') == 0\n",
        "assert count_code('') == 0\n",
        "print(\"All testcases are passed!\")"
      ],
      "execution_count": 0,
      "outputs": [
        {
          "output_type": "stream",
          "text": [
            "All testcases are passed!\n"
          ],
          "name": "stdout"
        }
      ]
    },
    {
      "metadata": {
        "id": "8VN0MM0bae8C",
        "colab_type": "text"
      },
      "cell_type": "markdown",
      "source": [
        "Given two strings, return True if either of the strings appears at the very end of the other string, ignoring upper/lower case differences (in other words, the computation should not be \"case sensitive\"). Note: s.lower() returns the lowercase version of a string.\n",
        "\n",
        "\n",
        "end_other('Hiabc', 'abc') → True\n",
        "end_other('AbC', 'HiaBc') → True\n",
        "end_other('abc', 'abXabc') → True"
      ]
    },
    {
      "metadata": {
        "id": "OdLMnG3eaf_D",
        "colab_type": "code",
        "outputId": "82d4ecef-ae6c-4ddc-f279-ca0078478882",
        "colab": {
          "base_uri": "https://localhost:8080/",
          "height": 34
        }
      },
      "cell_type": "code",
      "source": [
        "def end_other(a, b):\n",
        "  a=a.lower()\n",
        "  b=b.lower()\n",
        "  if a in b and b.index(a[len(a)-1]) == len(b)-1:\n",
        "    return True\n",
        "  elif b in a and a.index(b[len(b)-1]) == len(a)-1:\n",
        "    return True\n",
        "  else: return False\n",
        "        \n",
        "assert end_other('Hiabc', 'bc') == True\t\n",
        "assert end_other('Hiabcx', 'bc') == False\t\n",
        "assert end_other('abc', 'abc') == True\t\n",
        "assert end_other('xyz', '12xyz') == True\n",
        "assert end_other('yz', '12xz') == False\n",
        "assert end_other('Z', '12xz') == True\n",
        "assert end_other('12', '12') == True\t\n",
        "assert end_other('abcXYZ', 'abcDEF') == False\t\n",
        "assert end_other('ab', 'ab12') == False\n",
        "print(\"All testcases are passed!\")"
      ],
      "execution_count": 20,
      "outputs": [
        {
          "output_type": "stream",
          "text": [
            "All testcases are passed!\n"
          ],
          "name": "stdout"
        }
      ]
    },
    {
      "metadata": {
        "id": "5MxiJQgGoH7S",
        "colab_type": "text"
      },
      "cell_type": "markdown",
      "source": [
        "Return True if the given string contains an appearance of \"xyz\" where the xyz is not directly preceeded by a period (.). So \"xxyz\" counts but \"x.xyz\" does not.\n",
        "\n",
        "\n",
        "xyz_there('abcxyz') → True\n",
        "xyz_there('abc.xyz') → False\n",
        "xyz_there('xyz.abc') → True"
      ]
    },
    {
      "metadata": {
        "id": "tZjU7TTFo6j9",
        "colab_type": "code",
        "outputId": "2b2715b5-6535-4af6-a1fe-47746619b26f",
        "colab": {
          "base_uri": "https://localhost:8080/",
          "height": 34
        }
      },
      "cell_type": "code",
      "source": [
        "def xyz_there(str):\n",
        "  flag = True\n",
        "  if len(str) >= 3:\n",
        "    for i in range(len(str)-2):\n",
        "      substr = str[i:i+3]\n",
        "      if substr == 'xyz':\n",
        "        if str[i-1] == '.':\n",
        "          flag = False\n",
        "        else:\n",
        "          flag = True\n",
        "      else:\n",
        "        flag = False\n",
        "  else:\n",
        "    flag = False\n",
        "  return flag\n",
        "assert xyz_there('abc.xyzxyz') == True\n",
        "assert xyz_there('xyz') == True\n",
        "assert xyz_there('abcxy') == False\n",
        "assert xyz_there('xyz') == True\n",
        "assert xyz_there('xy') == False\t\n",
        "assert xyz_there('x') == False\t\n",
        "assert xyz_there('') == False\t\n",
        "\t\n",
        "assert xyz_there('abc.xxyz') == True\t\n",
        "assert xyz_there('.xyz') == False\n",
        "print(\"All testcases are passed!\")"
      ],
      "execution_count": 54,
      "outputs": [
        {
          "output_type": "stream",
          "text": [
            "All testcases are passed!\n"
          ],
          "name": "stdout"
        }
      ]
    },
    {
      "metadata": {
        "id": "YjnzcEAF90ns",
        "colab_type": "code",
        "colab": {
          "base_uri": "https://localhost:8080/",
          "height": 34
        },
        "outputId": "8429cb5d-b3fd-4ad0-e90b-336758d93509"
      },
      "cell_type": "code",
      "source": [
        "str1 = \"nima\"\n",
        "new = list(str1)\n",
        "print(new)"
      ],
      "execution_count": 33,
      "outputs": [
        {
          "output_type": "stream",
          "text": [
            "['n', 'i', 'm', 'a']\n"
          ],
          "name": "stdout"
        }
      ]
    }
  ]
}